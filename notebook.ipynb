{
 "cells": [
  {
   "cell_type": "markdown",
   "metadata": {},
   "source": [
    "# Cythonized Entropy Function for Binwalk\n",
    "\n",
    "## About\n",
    "\n",
    "This notebook contains a proposed change to [Binwalk](https://github.com/devttys0/binwalk) that improves the performance of the Shannon entropy function."
   ]
  },
  {
   "cell_type": "code",
   "execution_count": 2,
   "metadata": {
    "collapsed": true
   },
   "outputs": [],
   "source": [
    "%load_ext Cython"
   ]
  },
  {
   "cell_type": "code",
   "execution_count": 77,
   "metadata": {
    "collapsed": false
   },
   "outputs": [],
   "source": [
    "import math\n",
    "s = ''.join(['test' for _ in range(10000000)])"
   ]
  },
  {
   "cell_type": "code",
   "execution_count": 67,
   "metadata": {
    "collapsed": true
   },
   "outputs": [],
   "source": [
    "# original implementation\n",
    "def py_shannon(data):\n",
    "    '''\n",
    "    Performs a Shannon entropy analysis on a given block of data.\n",
    "    '''\n",
    "    entropy = 0\n",
    "\n",
    "    if data:\n",
    "        length = len(data)\n",
    "\n",
    "        seen = dict(((chr(x), 0) for x in range(0, 256)))\n",
    "        for byte in data:\n",
    "            seen[byte] += 1\n",
    "\n",
    "        for x in range(0, 256):\n",
    "            p_x = float(seen[chr(x)]) / length\n",
    "            if p_x > 0:\n",
    "                entropy -= p_x * math.log(p_x, 2)\n",
    "\n",
    "    return (entropy / 8)"
   ]
  },
  {
   "cell_type": "code",
   "execution_count": 1,
   "metadata": {
    "collapsed": false
   },
   "outputs": [],
   "source": [
    "%%cython \n",
    "import cython\n",
    "from libc.string cimport memset\n",
    "from libc.math cimport log2\n",
    "\n",
    "# cythonized\n",
    "def shannon(data):\n",
    "    '''\n",
    "    Performs a Shannon entropy analysis on a given block of data.\n",
    "    '''\n",
    "    cdef:\n",
    "        double entropy = 0\n",
    "        int seen[256]\n",
    "        float length\n",
    "        double p_x\n",
    "        char* c\n",
    "        int x\n",
    "            \n",
    "    memset(seen, 0, 256 * sizeof(int))\n",
    "    \n",
    "    if data:\n",
    "        length = len(data)\n",
    "\n",
    "        for c in data:\n",
    "            seen[c[0]] += 1\n",
    "            \n",
    "        for x in range(0, 256):\n",
    "            p_x = seen[x] / length\n",
    "            if p_x > 0:\n",
    "                entropy -= p_x * log2(p_x)\n",
    "\n",
    "    return (entropy / 8)"
   ]
  },
  {
   "cell_type": "markdown",
   "metadata": {},
   "source": [
    "## Benchmark"
   ]
  },
  {
   "cell_type": "code",
   "execution_count": 78,
   "metadata": {
    "collapsed": false
   },
   "outputs": [
    {
     "name": "stdout",
     "output_type": "stream",
     "text": [
      "0.1875\n",
      "0.1875\n",
      "0.1875\n",
      "0.1875\n",
      "1 loop, best of 3: 682 ms per loop\n",
      "0.1875\n",
      "0.1875\n",
      "0.1875\n",
      "0.1875\n",
      "1 loop, best of 3: 4.21 s per loop\n"
     ]
    }
   ],
   "source": [
    "%timeit print(shannon(s))\n",
    "%timeit print(py_shannon(s))"
   ]
  }
 ],
 "metadata": {
  "kernelspec": {
   "display_name": "Python 2",
   "language": "python2",
   "name": "python2"
  },
  "language_info": {
   "codemirror_mode": {
    "name": "ipython",
    "version": 2
   },
   "file_extension": ".py",
   "mimetype": "text/x-python",
   "name": "python",
   "nbconvert_exporter": "python",
   "pygments_lexer": "ipython2",
   "version": "2.7.12"
  }
 },
 "nbformat": 4,
 "nbformat_minor": 0
}
